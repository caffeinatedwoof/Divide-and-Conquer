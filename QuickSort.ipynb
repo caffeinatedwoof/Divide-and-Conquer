{
 "cells": [
  {
   "cell_type": "code",
   "execution_count": 1,
   "metadata": {},
   "outputs": [],
   "source": [
    "import random"
   ]
  },
  {
   "cell_type": "code",
   "execution_count": 203,
   "metadata": {},
   "outputs": [],
   "source": [
    "def randpartition(arr,left,right):\n",
    "    randpivot = random.randint(left,right)\n",
    "    arr[left], arr[randpivot] = arr[randpivot], arr[left]\n",
    "    return partition(arr,left,right)"
   ]
  },
  {
   "cell_type": "code",
   "execution_count": 193,
   "metadata": {},
   "outputs": [],
   "source": [
    "def partition(arr,left,right):\n",
    "    #left and right are the starting / ending indices of the array respectively\n",
    "    pivot = arr[left]\n",
    "    ptr = left + 1\n",
    "    for j in range(left+1,right+1):\n",
    "        if arr[j] < pivot:\n",
    "            arr[j], arr[ptr] = arr[ptr], arr[j]\n",
    "            ptr += 1\n",
    "    arr[left], arr[ptr-1] = arr[ptr-1], arr[left]\n",
    "    return ptr - 1"
   ]
  },
  {
   "cell_type": "code",
   "execution_count": 204,
   "metadata": {},
   "outputs": [],
   "source": [
    "#Implement Quicksort Algorithm\n",
    "def QuickSort(arr, left, right):\n",
    "    if len(arr)==1:\n",
    "        return arr\n",
    "    else:\n",
    "        if left < right:\n",
    "            #pi = partition(arr, left, right)\n",
    "            pi = randpartition(arr,left,right)\n",
    "            QuickSort(arr, left, pi-1)\n",
    "            QuickSort(arr, pi+1, right)\n",
    "        return arr"
   ]
  },
  {
   "cell_type": "code",
   "execution_count": null,
   "metadata": {},
   "outputs": [],
   "source": []
  }
 ],
 "metadata": {
  "kernelspec": {
   "display_name": "Python 3",
   "language": "python",
   "name": "python3"
  },
  "language_info": {
   "codemirror_mode": {
    "name": "ipython",
    "version": 3
   },
   "file_extension": ".py",
   "mimetype": "text/x-python",
   "name": "python",
   "nbconvert_exporter": "python",
   "pygments_lexer": "ipython3",
   "version": "3.8.3"
  }
 },
 "nbformat": 4,
 "nbformat_minor": 4
}
