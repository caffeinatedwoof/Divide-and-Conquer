{
 "cells": [
  {
   "cell_type": "markdown",
   "metadata": {},
   "source": [
    "## Count Inversions via Merge Sort ##"
   ]
  },
  {
   "cell_type": "markdown",
   "metadata": {},
   "source": [
    "To count the number of inversions in an array, we can implement the naive approach of using a nested for loop to obtain the result in O(n^2) time:"
   ]
  },
  {
   "cell_type": "code",
   "execution_count": 33,
   "metadata": {},
   "outputs": [],
   "source": [
    "def naive(arr):\n",
    "    inv_count = 0\n",
    "    for i in range(len(arr)):\n",
    "        for j in range(i+1,len(arr)):\n",
    "            if arr[i] > arr[j]:\n",
    "                inv_count += 1\n",
    "    return inv_count"
   ]
  },
  {
   "cell_type": "markdown",
   "metadata": {},
   "source": [
    "There is a much more elegant solution available to us by piggybacking on the Merge Sort Algorithm. This would run in O(nlogn) time:"
   ]
  },
  {
   "cell_type": "code",
   "execution_count": 34,
   "metadata": {},
   "outputs": [],
   "source": [
    "def mergeSort(arr,n):\n",
    "    # n is the length of the array\n",
    "    # Here we will create a temporary array to house the sorted values via the recursive calls\n",
    "    temp_arr = [0]*n\n",
    "    return _mergeSort(arr,temp_arr,0,n-1)"
   ]
  },
  {
   "cell_type": "code",
   "execution_count": 35,
   "metadata": {},
   "outputs": [],
   "source": [
    "def _mergeSort(arr,temp_arr,left,right):\n",
    "    #left is the starting index of the given array\n",
    "    #right is the ending index of the final array\n",
    "    inv_count = 0\n",
    "    \n",
    "    if left < right:\n",
    "        mid = (left + right)//2\n",
    "        #we will split our array into two halves and make the recursive calls\n",
    "        inv_count += _mergeSort(arr,temp_arr,left,mid)\n",
    "        inv_count += _mergeSort(arr,temp_arr,mid+1,right)\n",
    "        inv_count += merge(arr,temp_arr,left,mid,right)\n",
    "    \n",
    "    return inv_count"
   ]
  },
  {
   "cell_type": "code",
   "execution_count": 36,
   "metadata": {},
   "outputs": [],
   "source": [
    "def merge(arr,temp_arr,left,mid,right):\n",
    "    i = left\n",
    "    j = mid+1\n",
    "    k = left \n",
    "    \n",
    "    inv_count = 0\n",
    "    \n",
    "    while i <= mid and j <= right:\n",
    "        if arr[i] <= arr[j]:\n",
    "            temp_arr[k] = arr[i]\n",
    "            i += 1\n",
    "            k += 1\n",
    "        else:\n",
    "            temp_arr[k] = arr[j]\n",
    "            j += 1\n",
    "            k += 1\n",
    "            inv_count += (mid-i+1)\n",
    "    \n",
    "    while i <= mid:\n",
    "        temp_arr[k] = arr[i]\n",
    "        i += 1\n",
    "        k += 1\n",
    "    \n",
    "    while j <= right:\n",
    "        temp_arr[k] = arr[j]\n",
    "        j += 1\n",
    "        k += 1\n",
    "    \n",
    "    for m in range(left, right+1):\n",
    "        arr[m] = temp_arr[m]\n",
    "        \n",
    "    return inv_count"
   ]
  },
  {
   "cell_type": "code",
   "execution_count": null,
   "metadata": {},
   "outputs": [],
   "source": []
  }
 ],
 "metadata": {
  "kernelspec": {
   "display_name": "Python 3",
   "language": "python",
   "name": "python3"
  },
  "language_info": {
   "codemirror_mode": {
    "name": "ipython",
    "version": 3
   },
   "file_extension": ".py",
   "mimetype": "text/x-python",
   "name": "python",
   "nbconvert_exporter": "python",
   "pygments_lexer": "ipython3",
   "version": "3.8.3"
  }
 },
 "nbformat": 4,
 "nbformat_minor": 4
}
