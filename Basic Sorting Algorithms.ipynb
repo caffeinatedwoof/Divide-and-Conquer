{
 "cells": [
  {
   "cell_type": "code",
   "execution_count": 32,
   "metadata": {},
   "outputs": [],
   "source": [
    "test_case = [3,5,1,2,4]"
   ]
  },
  {
   "cell_type": "markdown",
   "metadata": {},
   "source": [
    "## Selection Sort ##\n",
    "\n",
    "The Selection Sort algorithm sorts an array by finding the minimum value of the unsorted part and then swapping it with the first unsorted element. It is an in-place algorithm, meaning we won't need to allocate additional lists. While slow, it is still used as the main sorting algorithm in systems where memory is limited."
   ]
  },
  {
   "cell_type": "code",
   "execution_count": 33,
   "metadata": {},
   "outputs": [],
   "source": [
    "def selection_sort(arr):\n",
    "    copy = arr[:]\n",
    "    #Make a copy to avoid changing the input\n",
    "    n = len(arr)\n",
    "    for i in range(n):\n",
    "        #For high-level implementation, we can just use argmin to find the min_index\n",
    "        #min_index = argmin(arr[i:])\n",
    "        min_index = i\n",
    "        for j in range(i+1,n):\n",
    "            if copy[j] < copy[min_index]:\n",
    "                min_index = j\n",
    "        copy[i], copy[min_index] = copy[min_index], copy[i]\n",
    "        #Note here that swapping works because Python calculated the right-hand side before assigning anything to \n",
    "        #the left-hand side, so we don't need any temporary variables.\n",
    "    return copy"
   ]
  },
  {
   "cell_type": "markdown",
   "metadata": {},
   "source": [
    "Let's test the selection sort algorithm:"
   ]
  },
  {
   "cell_type": "code",
   "execution_count": 34,
   "metadata": {},
   "outputs": [
    {
     "name": "stdout",
     "output_type": "stream",
     "text": [
      "Before sorting: [3, 5, 1, 2, 4]\n",
      "After sorting: [1, 2, 3, 4, 5]\n",
      "Time Complexity: O(n^2)\n"
     ]
    }
   ],
   "source": [
    "print('Before sorting: ' + str(test_case))\n",
    "result = selection_sort(test_case)\n",
    "print('After selection sort: '+ str(result))\n",
    "print('Time Complexity: O(n^2)')"
   ]
  },
  {
   "cell_type": "markdown",
   "metadata": {},
   "source": [
    "## Insertion Sort ##\n",
    "This is similar to the way we sort our hands when playing cards. As we iterate over the unsorted part, we will store the current value as the key and compare it to the preceding elements in the sorted part. We will stop once we have inserted it in the correct position in the sorted part."
   ]
  },
  {
   "cell_type": "code",
   "execution_count": 35,
   "metadata": {},
   "outputs": [],
   "source": [
    "def insertion_sort(arr):\n",
    "    n = len(arr)\n",
    "    copy = arr[:]\n",
    "    #Make a copy without changing the input\n",
    "    for i in range(1,n):\n",
    "        key = copy[i]\n",
    "        j = i-1\n",
    "        while j >= 0 and key < copy[j]:\n",
    "            copy[j+1] = copy[j]\n",
    "            j -= 1\n",
    "        copy[j+1] = key\n",
    "    return copy"
   ]
  },
  {
   "cell_type": "markdown",
   "metadata": {},
   "source": [
    "Let's test the insertion sort algorithm."
   ]
  },
  {
   "cell_type": "code",
   "execution_count": 36,
   "metadata": {},
   "outputs": [
    {
     "name": "stdout",
     "output_type": "stream",
     "text": [
      "Before sorting: [3, 5, 1, 2, 4]\n",
      "After sorting: [1, 2, 3, 4, 5]\n",
      "Time Complexity: O(n^2)\n"
     ]
    }
   ],
   "source": [
    "print('Before sorting: ' + str(test_case))\n",
    "result = insertion_sort(test_case)\n",
    "print('After insertion sort: '+ str(result))\n",
    "print('Time Complexity: O(n^2)')"
   ]
  },
  {
   "cell_type": "markdown",
   "metadata": {},
   "source": [
    "## Bubble Sort ###\n",
    "\n",
    "Bubble Sort is the simplest sorting algorithm that works by repeatedly swapping the adjacent elements if they are in the wrong order. "
   ]
  },
  {
   "cell_type": "code",
   "execution_count": null,
   "metadata": {},
   "outputs": [],
   "source": [
    "def bubble_sort(arr):\n",
    "    len(array) = n\n",
    "    copy = arr[:]\n",
    "    #Make a copy without changing the input\n",
    "    swapped = False\n",
    "    for i in range(n-1):\n",
    "        for j in range(0, n-i-1):\n",
    "        # traverse the array from 0 to n-i-1\n",
    "        # Swap if the element found is greater than the next element\n",
    "            if copy[j] > copy[j + 1]:\n",
    "                swapped = True\n",
    "                copy[j], copy[j + 1] = copy[j + 1], copy[j]\n",
    "        if not swapped:\n",
    "        # if we haven't needed to make a single swap, we can just exit the main loop.\n",
    "        return copy\n",
    "    return copy"
   ]
  },
  {
   "cell_type": "markdown",
   "metadata": {},
   "source": [
    "Let's test the bubble sort algorithm."
   ]
  },
  {
   "cell_type": "code",
   "execution_count": null,
   "metadata": {},
   "outputs": [],
   "source": [
    "print('Before sorting: ' + str(test_case))\n",
    "result = bubble_sort(test_case)\n",
    "print('After bubble sort: '+ str(result))\n",
    "print('Time Complexity: O(n^2)')"
   ]
  },
  {
   "cell_type": "markdown",
   "metadata": {},
   "source": [
    "## Merge Sort ##\n",
    "The Merge Sort algorithm is an example of the divide and conquer strategy. The array is initially divided into two equal halves and then they are combined in a sorted manner. We can think of it as a recursive algorithm that continuously splits the array in half until it cannot be further divided. This means that if the array becomes empty or has only one element left, the dividing will stop, i.e. it is the base case to stop the recursion. If the array has multiple elements, we split the array into halves and recursively invoke the merge sort on each of the halves. Finally, when both the halves are sorted, the merge operation is applied. Merge operation is the process of taking two smaller sorted arrays and combining them to eventually make a larger one."
   ]
  },
  {
   "cell_type": "code",
   "execution_count": 41,
   "metadata": {},
   "outputs": [],
   "source": [
    "def merge_sort(arr):\n",
    "    copy = arr[:]\n",
    "    #Make a copy without changing the input\n",
    "    if len(copy) > 1:\n",
    " \n",
    "         # Finding the mid of the array\n",
    "        mid = len(copy)//2\n",
    " \n",
    "        # Dividing the array elements\n",
    "        L = copy[:mid]\n",
    " \n",
    "        # into 2 halves\n",
    "        R = copy[mid:]\n",
    " \n",
    "        # Sorting the first half\n",
    "        merge_sort(L)\n",
    " \n",
    "        # Sorting the second half\n",
    "        merge_sort(R)\n",
    " \n",
    "        i = j = k = 0\n",
    " \n",
    "        # Copy data to temp arrays L[] and R[]\n",
    "        while i < len(L) and j < len(R):\n",
    "            if L[i] < R[j]:\n",
    "                copy[k] = L[i]\n",
    "                i += 1\n",
    "            else:\n",
    "                copy[k] = R[j]\n",
    "                j += 1\n",
    "            k += 1\n",
    " \n",
    "        # Checking if any element was left\n",
    "        while i < len(L):\n",
    "            copy[k] = L[i]\n",
    "            i += 1\n",
    "            k += 1\n",
    " \n",
    "        while j < len(R):\n",
    "            copy[k] = R[j]\n",
    "            j += 1\n",
    "            k += 1\n",
    "    return copy"
   ]
  },
  {
   "cell_type": "markdown",
   "metadata": {},
   "source": [
    "Let's test the merge sort algorithm."
   ]
  },
  {
   "cell_type": "code",
   "execution_count": 42,
   "metadata": {},
   "outputs": [
    {
     "name": "stdout",
     "output_type": "stream",
     "text": [
      "Before sorting: [3, 5, 1, 2, 4]\n",
      "After merge sort: [1, 2, 3, 4, 5]\n",
      "Time Complexity: O(nlogn)\n"
     ]
    }
   ],
   "source": [
    "print('Before sorting: ' + str(test_case))\n",
    "result = merge_sort(test_case)\n",
    "print('After merge sort: '+ str(result))\n",
    "print('Time Complexity: O(nlogn)')"
   ]
  },
  {
   "cell_type": "code",
   "execution_count": null,
   "metadata": {},
   "outputs": [],
   "source": []
  }
 ],
 "metadata": {
  "kernelspec": {
   "display_name": "Python 3",
   "language": "python",
   "name": "python3"
  },
  "language_info": {
   "codemirror_mode": {
    "name": "ipython",
    "version": 3
   },
   "file_extension": ".py",
   "mimetype": "text/x-python",
   "name": "python",
   "nbconvert_exporter": "python",
   "pygments_lexer": "ipython3",
   "version": "3.8.3"
  }
 },
 "nbformat": 4,
 "nbformat_minor": 4
}
